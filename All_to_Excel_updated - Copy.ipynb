{
 "cells": [
  {
   "cell_type": "code",
   "execution_count": 8,
   "metadata": {
    "collapsed": true
   },
   "outputs": [],
   "source": [
    "# Author: Shaoying Tang\n",
    "\n",
    "import json\n",
    "import numpy as np\n",
    "import pandas as pd"
   ]
  },
  {
   "cell_type": "code",
   "execution_count": 9,
   "metadata": {
    "collapsed": false
   },
   "outputs": [],
   "source": [
    "import os\n",
    "os.chdir('E:\\\\UNProject\\\\new_tagged')"
   ]
  },
  {
   "cell_type": "code",
   "execution_count": 10,
   "metadata": {
    "collapsed": false
   },
   "outputs": [
    {
     "data": {
      "text/plain": [
       "67"
      ]
     },
     "execution_count": 10,
     "metadata": {},
     "output_type": "execute_result"
    }
   ],
   "source": [
    "files = []\n",
    "countries = []\n",
    "\n",
    "for i in os.listdir('E:\\\\UNProject\\\\new_tagged'):\n",
    "    if i.endswith('.json'):\n",
    "        files.append(json.load(open(i)))\n",
    "        countries.append(i[:-23])\n",
    "\n",
    "len(files)"
   ]
  },
  {
   "cell_type": "code",
   "execution_count": 11,
   "metadata": {
    "collapsed": false
   },
   "outputs": [
    {
     "data": {
      "text/plain": [
       "['Afghanistan',\n",
       " 'Albania (nonEnglish)',\n",
       " 'Australia',\n",
       " 'Austria',\n",
       " 'Azerbaijan (nonEnglish)',\n",
       " 'Bangladesh',\n",
       " 'BosniaHerzegovina (nonEnglish)',\n",
       " 'Brazil (nonEnglish)',\n",
       " 'Brunei',\n",
       " 'Canada']"
      ]
     },
     "execution_count": 11,
     "metadata": {},
     "output_type": "execute_result"
    }
   ],
   "source": [
    "countries[:10]"
   ]
  },
  {
   "cell_type": "code",
   "execution_count": 12,
   "metadata": {
    "collapsed": true
   },
   "outputs": [],
   "source": [
    "def taggedjson_to_df(d):\n",
    "    sentence_id = []\n",
    "    cat = []\n",
    "    sentence = []\n",
    "    category = []\n",
    "    subcategory = []\n",
    "    Reason= []\n",
    "    n = len(d)\n",
    "    \n",
    "    for s in d:\n",
    "        sentence_id.append(s['sentence_id,'])\n",
    "        cat.append(s['tag'])\n",
    "        sentence.append(s['sentence'])\n",
    "    for i in range(n):\n",
    "        category.append(str(cat[i][0]['category']))\n",
    "        subcategory.append(str(cat[i][0]['subcategory'][0]))\n",
    "    for i in range(n):\n",
    "        Reason.append('Unknown For Now')\n",
    "    \n",
    "    dd={'SentenceID':sentence_id,'Sentence':sentence,'Category':category,'Subcategory':subcategory,'Reason':Reason}\n",
    "    df = pd.DataFrame(dd)\n",
    "    return df"
   ]
  },
  {
   "cell_type": "code",
   "execution_count": 13,
   "metadata": {
    "collapsed": true
   },
   "outputs": [],
   "source": [
    "os.chdir('E:\\\\UNProject\\\\tagged_excel2')"
   ]
  },
  {
   "cell_type": "code",
   "execution_count": 14,
   "metadata": {
    "collapsed": false
   },
   "outputs": [],
   "source": [
    "for i in range(len(files)):\n",
    "    d = files[i]\n",
    "    df = taggedjson_to_df(d)\n",
    "    df.to_csv(\"{}.csv\".format(str(countries[i])))"
   ]
  },
  {
   "cell_type": "code",
   "execution_count": null,
   "metadata": {
    "collapsed": true
   },
   "outputs": [],
   "source": []
  }
 ],
 "metadata": {
  "kernelspec": {
   "display_name": "Python [Root]",
   "language": "python",
   "name": "Python [Root]"
  },
  "language_info": {
   "codemirror_mode": {
    "name": "ipython",
    "version": 2
   },
   "file_extension": ".py",
   "mimetype": "text/x-python",
   "name": "python",
   "nbconvert_exporter": "python",
   "pygments_lexer": "ipython2",
   "version": "2.7.13"
  }
 },
 "nbformat": 4,
 "nbformat_minor": 2
}
