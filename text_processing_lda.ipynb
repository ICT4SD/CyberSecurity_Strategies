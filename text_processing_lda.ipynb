{
 "cells": [
  {
   "cell_type": "code",
   "execution_count": 10,
   "metadata": {
    "collapsed": false
   },
   "outputs": [],
   "source": [
    "% matplotlib inline\n",
    "import os\n",
    "import sys\n",
    "from gensim.models.ldamodel import LdaModel\n",
    "import gensim\n",
    "import pandas as pd\n",
    "import glob\n",
    "from nltk.corpus import stopwords\n",
    "import string\n",
    "from gensim import corpora\n",
    "import timeit\n",
    "from collections import defaultdict\n",
    "from nltk import PorterStemmer\n",
    "from gensim.utils import lemmatize # Only keep nums\n",
    "import re\n",
    "from bs4 import BeautifulSoup\n",
    "import urllib\n",
    "import time\n",
    "import threading\n",
    "from gensim.corpora import Dictionary\n",
    "from nltk.stem.wordnet import WordNetLemmatizer"
   ]
  },
  {
   "cell_type": "code",
   "execution_count": 2,
   "metadata": {
    "collapsed": false
   },
   "outputs": [
    {
     "name": "stdout",
     "output_type": "stream",
     "text": [
      "sys.version_info(major=3, minor=5, micro=2, releaselevel='final', serial=0)\n"
     ]
    }
   ],
   "source": [
    "print(sys.version_info) ### Make sure you are using Python3"
   ]
  },
  {
   "cell_type": "code",
   "execution_count": 3,
   "metadata": {
    "collapsed": false
   },
   "outputs": [],
   "source": [
    "## change dir\n",
    "os.chdir(os.getcwd()+'\\data')\n",
    "\n",
    "dict_data = {}\n",
    "country_list = []\n",
    "content_list = []        \n",
    "for i in glob.glob('*.txt'):\n",
    "    with open(i,encoding='utf-8',errors = 'ignore') as f:\n",
    "        country_list += [i.split('.')[0]]\n",
    "        content = f.readlines()\n",
    "        content_list += [''.join(list(filter(None, list(map(lambda x:x.strip(), content)))))]\n",
    "dict_data['country'] = country_list\n",
    "dict_data['content'] = content_list\n",
    "df_all = pd.DataFrame(dict_data)"
   ]
  },
  {
   "cell_type": "code",
   "execution_count": 4,
   "metadata": {
    "collapsed": false
   },
   "outputs": [
    {
     "name": "stdout",
     "output_type": "stream",
     "text": [
      "C:\\Users\\Miya\\OneDrive\\un-project\n"
     ]
    }
   ],
   "source": [
    "cd ../"
   ]
  },
  {
   "cell_type": "code",
   "execution_count": 5,
   "metadata": {
    "collapsed": false
   },
   "outputs": [],
   "source": [
    "## change dir\n",
    "os.chdir(os.getcwd()+'\\profiles')\n",
    "\n",
    "dictionary_data = {}\n",
    "dict_country_list = []\n",
    "dict_content_list = []        \n",
    "for i in glob.glob('*.txt'):\n",
    "    with open(i,encoding='utf-8',errors = 'ignore') as f:\n",
    "        dict_country_list += [i.split('.')[0]]\n",
    "        dict_content = f.readlines()\n",
    "        dict_content_list += [''.join(list(filter(None, list(map(lambda x:x.strip(), dict_content)))))]\n",
    "dictionary_data['country'] = dict_country_list\n",
    "dictionary_data['content'] = dict_content_list\n",
    "dict_df_all = pd.DataFrame(dictionary_data)"
   ]
  },
  {
   "cell_type": "code",
   "execution_count": 6,
   "metadata": {
    "collapsed": false
   },
   "outputs": [
    {
     "data": {
      "text/html": [
       "<div>\n",
       "<table border=\"1\" class=\"dataframe\">\n",
       "  <thead>\n",
       "    <tr style=\"text-align: right;\">\n",
       "      <th></th>\n",
       "      <th>content</th>\n",
       "      <th>country</th>\n",
       "    </tr>\n",
       "  </thead>\n",
       "  <tbody>\n",
       "    <tr>\n",
       "      <th>0</th>\n",
       "      <td>IslamicRepublicofAfghanistanMinistryofCommunic...</td>\n",
       "      <td>Afghanistan</td>\n",
       "    </tr>\n",
       "    <tr>\n",
       "      <th>1</th>\n",
       "      <td>Shkresa-KokaColorR E P U B L I K A E S H Q I P...</td>\n",
       "      <td>Albania (nonEnglish)</td>\n",
       "    </tr>\n",
       "    <tr>\n",
       "      <th>2</th>\n",
       "      <td>AUSTRALIASCYBER SECURITY STRATEGYEnabling inno...</td>\n",
       "      <td>Australia</td>\n",
       "    </tr>\n",
       "    <tr>\n",
       "      <th>3</th>\n",
       "      <td>Logo Republik sterreichLogo Bundeskanzleramt s...</td>\n",
       "      <td>Austria</td>\n",
       "    </tr>\n",
       "    <tr>\n",
       "      <th>4</th>\n",
       "      <td>Az.rbaycan Prezidentinin R.smi internet s.hif....</td>\n",
       "      <td>Azerbaijan (nonEnglish)</td>\n",
       "    </tr>\n",
       "  </tbody>\n",
       "</table>\n",
       "</div>"
      ],
      "text/plain": [
       "                                             content                  country\n",
       "0  IslamicRepublicofAfghanistanMinistryofCommunic...              Afghanistan\n",
       "1  Shkresa-KokaColorR E P U B L I K A E S H Q I P...     Albania (nonEnglish)\n",
       "2  AUSTRALIASCYBER SECURITY STRATEGYEnabling inno...                Australia\n",
       "3  Logo Republik sterreichLogo Bundeskanzleramt s...                  Austria\n",
       "4  Az.rbaycan Prezidentinin R.smi internet s.hif....  Azerbaijan (nonEnglish)"
      ]
     },
     "execution_count": 6,
     "metadata": {},
     "output_type": "execute_result"
    }
   ],
   "source": [
    "df_all.head()"
   ]
  },
  {
   "cell_type": "code",
   "execution_count": 7,
   "metadata": {
    "collapsed": false
   },
   "outputs": [
    {
     "data": {
      "text/html": [
       "<div>\n",
       "<table border=\"1\" class=\"dataframe\">\n",
       "  <thead>\n",
       "    <tr style=\"text-align: right;\">\n",
       "      <th></th>\n",
       "      <th>content</th>\n",
       "      <th>country</th>\n",
       "    </tr>\n",
       "  </thead>\n",
       "  <tbody>\n",
       "    <tr>\n",
       "      <th>0</th>\n",
       "      <td>﻿----------------------- Page 1---------------...</td>\n",
       "      <td>Afghanistan</td>\n",
       "    </tr>\n",
       "    <tr>\n",
       "      <th>1</th>\n",
       "      <td>﻿----------------------- Page 1---------------...</td>\n",
       "      <td>Albania</td>\n",
       "    </tr>\n",
       "    <tr>\n",
       "      <th>2</th>\n",
       "      <td>﻿----------------------- Page 1---------------...</td>\n",
       "      <td>Algeria</td>\n",
       "    </tr>\n",
       "    <tr>\n",
       "      <th>3</th>\n",
       "      <td>﻿----------------------- Page 1---------------...</td>\n",
       "      <td>Andorra</td>\n",
       "    </tr>\n",
       "    <tr>\n",
       "      <th>4</th>\n",
       "      <td>﻿----------------------- Page 1---------------...</td>\n",
       "      <td>Angola</td>\n",
       "    </tr>\n",
       "  </tbody>\n",
       "</table>\n",
       "</div>"
      ],
      "text/plain": [
       "                                             content      country\n",
       "0  ﻿----------------------- Page 1---------------...  Afghanistan\n",
       "1  ﻿----------------------- Page 1---------------...      Albania\n",
       "2  ﻿----------------------- Page 1---------------...      Algeria\n",
       "3  ﻿----------------------- Page 1---------------...      Andorra\n",
       "4  ﻿----------------------- Page 1---------------...       Angola"
      ]
     },
     "execution_count": 7,
     "metadata": {},
     "output_type": "execute_result"
    }
   ],
   "source": [
    "dict_df_all.head()"
   ]
  },
  {
   "cell_type": "code",
   "execution_count": 11,
   "metadata": {
    "collapsed": false
   },
   "outputs": [],
   "source": [
    "def process_text(paragraph_list):\n",
    "    \"\"\"\n",
    "    stopwords\n",
    "    \n",
    "    punctuation\n",
    "    \n",
    "    digits\n",
    "    \n",
    "    \n",
    "    \"\"\"\n",
    "    typical_words = ['security','cyber','the','information','government'\n",
    "                     ,'cybersecurity','national','development','systems'\n",
    "                     ,'services','strategy','international','cyberspace']\n",
    "    stoplist = stopwords.words('english') + typical_words \n",
    "    \n",
    "    remove_digits = str.maketrans('', '', string.digits)\n",
    "    remove_punctuation = str.maketrans('', '', string.punctuation)\n",
    "    \n",
    "    \n",
    "    lemma = WordNetLemmatizer()\n",
    "    \n",
    "    \n",
    "    paragraph_cleaned =[i.translate(remove_digits) for i in paragraph_list]\n",
    "    \n",
    "    paragraph_cleaned = [i.translate(remove_punctuation) for i in paragraph_cleaned]\n",
    "    \n",
    "    paragraph_cleaned = [[lemma.lemmatize(word.lower()) for word in line.split() if word.lower() not in stoplist] for line in paragraph_cleaned]\n",
    "\n",
    "    return paragraph_cleaned"
   ]
  },
  {
   "cell_type": "code",
   "execution_count": 12,
   "metadata": {
    "collapsed": true
   },
   "outputs": [],
   "source": [
    "paragraph_cleaned = process_text(content_list)"
   ]
  },
  {
   "cell_type": "code",
   "execution_count": 13,
   "metadata": {
    "collapsed": true
   },
   "outputs": [],
   "source": [
    "dict_paragraph_cleaned = process_text(dict_content_list)"
   ]
  },
  {
   "cell_type": "markdown",
   "metadata": {},
   "source": [
    "## bigram model"
   ]
  },
  {
   "cell_type": "code",
   "execution_count": 35,
   "metadata": {
    "collapsed": false
   },
   "outputs": [],
   "source": [
    "bigram = gensim.models.Phrases(dict_paragraph_cleaned,min_count=1, threshold=2)"
   ]
  },
  {
   "cell_type": "code",
   "execution_count": 36,
   "metadata": {
    "collapsed": false
   },
   "outputs": [
    {
     "name": "stderr",
     "output_type": "stream",
     "text": [
      "C:\\Users\\Miya\\Anaconda3\\lib\\site-packages\\gensim\\models\\phrases.py:248: UserWarning: For a faster implementation, use the gensim.models.phrases.Phraser class\n",
      "  warnings.warn(\"For a faster implementation, use the gensim.models.phrases.Phraser class\")\n"
     ]
    }
   ],
   "source": [
    "dictionary_text_list = list(bigram[dict_paragraph_cleaned])"
   ]
  },
  {
   "cell_type": "code",
   "execution_count": 37,
   "metadata": {
    "collapsed": false
   },
   "outputs": [
    {
     "name": "stderr",
     "output_type": "stream",
     "text": [
      "C:\\Users\\Miya\\Anaconda3\\lib\\site-packages\\gensim\\models\\phrases.py:248: UserWarning: For a faster implementation, use the gensim.models.phrases.Phraser class\n",
      "  warnings.warn(\"For a faster implementation, use the gensim.models.phrases.Phraser class\")\n"
     ]
    }
   ],
   "source": [
    "train_text_list = list(bigram[paragraph_cleaned])"
   ]
  },
  {
   "cell_type": "markdown",
   "metadata": {},
   "source": [
    "## dictionary built"
   ]
  },
  {
   "cell_type": "code",
   "execution_count": 38,
   "metadata": {
    "collapsed": false
   },
   "outputs": [],
   "source": [
    "dictionary = Dictionary(dictionary_text_list)\n",
    "corpus = [dictionary.doc2bow(text) for text in train_text_list]"
   ]
  },
  {
   "cell_type": "code",
   "execution_count": 39,
   "metadata": {
    "collapsed": false
   },
   "outputs": [
    {
     "data": {
      "text/plain": [
       "'C:\\\\Users\\\\Miya\\\\OneDrive\\\\un-project'"
      ]
     },
     "execution_count": 39,
     "metadata": {},
     "output_type": "execute_result"
    }
   ],
   "source": [
    "pwd"
   ]
  },
  {
   "cell_type": "code",
   "execution_count": 40,
   "metadata": {
    "collapsed": false
   },
   "outputs": [
    {
     "name": "stdout",
     "output_type": "stream",
     "text": [
      "C:\\Users\\Miya\\OneDrive\n"
     ]
    }
   ],
   "source": [
    "cd ../"
   ]
  },
  {
   "cell_type": "markdown",
   "metadata": {},
   "source": [
    "### dump dictionary and corpus"
   ]
  },
  {
   "cell_type": "code",
   "execution_count": 41,
   "metadata": {
    "collapsed": true
   },
   "outputs": [],
   "source": [
    "import pickle\n",
    "\n",
    "with open('corpus.pickle', 'wb') as handle:\n",
    "    pickle.dump(corpus, handle, protocol=pickle.HIGHEST_PROTOCOL)\n",
    "    \n",
    "with open('dictionary.pickle', 'wb') as handle:\n",
    "    pickle.dump(dictionary, handle, protocol=pickle.HIGHEST_PROTOCOL)"
   ]
  },
  {
   "cell_type": "code",
   "execution_count": null,
   "metadata": {
    "collapsed": true
   },
   "outputs": [],
   "source": []
  },
  {
   "cell_type": "code",
   "execution_count": null,
   "metadata": {
    "collapsed": true
   },
   "outputs": [],
   "source": []
  },
  {
   "cell_type": "code",
   "execution_count": null,
   "metadata": {
    "collapsed": true
   },
   "outputs": [],
   "source": []
  },
  {
   "cell_type": "code",
   "execution_count": null,
   "metadata": {
    "collapsed": true
   },
   "outputs": [],
   "source": []
  },
  {
   "cell_type": "markdown",
   "metadata": {},
   "source": [
    "### load dictionary"
   ]
  },
  {
   "cell_type": "code",
   "execution_count": null,
   "metadata": {
    "collapsed": true
   },
   "outputs": [],
   "source": [
    "#with open('dictionary.pickle', 'rb') as handle:\n",
    "    #dictionary = pickle.load(handle)\n",
    "#with open('corpus.pickle', 'rb') as handle:\n",
    "    #corpus = pickle.load(handle)"
   ]
  },
  {
   "cell_type": "markdown",
   "metadata": {},
   "source": [
    "## lda modeling"
   ]
  },
  {
   "cell_type": "code",
   "execution_count": 52,
   "metadata": {
    "collapsed": false
   },
   "outputs": [],
   "source": [
    "lda = LdaModel(corpus, num_topics= 6,id2word = dictionary)"
   ]
  },
  {
   "cell_type": "code",
   "execution_count": 53,
   "metadata": {
    "collapsed": false
   },
   "outputs": [
    {
     "data": {
      "text/plain": [
       "[(0,\n",
       "  '0.059*\"de\" + 0.041*\"e\" + 0.021*\"da\" + 0.020*\"o\" + 0.006*\"ict\" + 0.006*\"n\" + 0.005*\"technology\" + 0.005*\"threat\" + 0.005*\"policy\" + 0.005*\"digital\"'),\n",
       " (1,\n",
       "  '0.007*\"ict\" + 0.007*\"technology\" + 0.007*\"threat\" + 0.007*\"policy\" + 0.005*\"network\" + 0.005*\"system\" + 0.005*\"also\" + 0.005*\"ensure\" + 0.004*\"support\" + 0.004*\"new\"'),\n",
       " (2,\n",
       "  '0.008*\"ict\" + 0.008*\"o\" + 0.006*\"threat\" + 0.006*\"policy\" + 0.005*\"technology\" + 0.005*\"r\" + 0.005*\"use\" + 0.005*\"network\" + 0.005*\"sector\" + 0.004*\"risk\"'),\n",
       " (3,\n",
       "  '0.040*\"de\" + 0.011*\"da\" + 0.009*\"o\" + 0.009*\"e\" + 0.007*\"ict\" + 0.007*\"policy\" + 0.007*\"v\" + 0.006*\"technology\" + 0.006*\"also\" + 0.005*\"threat\"'),\n",
       " (4,\n",
       "  '0.013*\"ict\" + 0.007*\"de\" + 0.007*\"threat\" + 0.006*\"policy\" + 0.006*\"sector\" + 0.006*\"business\" + 0.005*\"public\" + 0.005*\"also\" + 0.005*\"measure\" + 0.005*\"network\"'),\n",
       " (5,\n",
       "  '0.007*\"threat\" + 0.007*\"ict\" + 0.006*\"network\" + 0.006*\"policy\" + 0.006*\"attack\" + 0.006*\"capability\" + 0.006*\"risk\" + 0.005*\"digital\" + 0.005*\"activity\" + 0.005*\"also\"')]"
      ]
     },
     "execution_count": 53,
     "metadata": {},
     "output_type": "execute_result"
    }
   ],
   "source": [
    "lda.show_topics(6,10)"
   ]
  },
  {
   "cell_type": "code",
   "execution_count": 59,
   "metadata": {
    "collapsed": false
   },
   "outputs": [],
   "source": [
    "top_assignment = list()\n",
    "for i in range(len(corpus)):\n",
    "    top_assignment += [lda[corpus[i]][0][0]]"
   ]
  },
  {
   "cell_type": "code",
   "execution_count": 67,
   "metadata": {
    "collapsed": true
   },
   "outputs": [],
   "source": [
    "%matplotlib inline\n",
    "import matplotlib.pyplot as plt"
   ]
  },
  {
   "cell_type": "code",
   "execution_count": 70,
   "metadata": {
    "collapsed": false
   },
   "outputs": [
    {
     "data": {
      "text/plain": [
       "(array([ 13.,   0.,  50.,   0.,   0.,   2.,   0.,   3.,   0.,   2.]),\n",
       " array([ 0. ,  0.4,  0.8,  1.2,  1.6,  2. ,  2.4,  2.8,  3.2,  3.6,  4. ]),\n",
       " <a list of 10 Patch objects>)"
      ]
     },
     "execution_count": 70,
     "metadata": {},
     "output_type": "execute_result"
    },
    {
     "data": {
      "image/png": "[encoded data removed]",
      "text/plain": [
       "<matplotlib.figure.Figure at 0xa18cfc6908>"
      ]
     },
     "metadata": {},
     "output_type": "display_data"
    }
   ],
   "source": [
    "plt.hist(top_assignment)"
   ]
  },
  {
   "cell_type": "code",
   "execution_count": 106,
   "metadata": {
    "collapsed": false
   },
   "outputs": [],
   "source": [
    "assignment_0 = list()\n",
    "assignment_1 = list()\n",
    "assignment_2 = list()\n",
    "assignment_3 = list()\n",
    "assignment_4 = list()\n",
    "assignment_5 = list()\n",
    "for i in range(len(corpus)):\n",
    "    assignment_0 += [lda[corpus[i]][0][0]]\n",
    "    try:\n",
    "        assignment_1 += [lda[corpus[i]][1][0]]\n",
    "    except IndexError:\n",
    "        assignment_1 += [0]\n",
    "    try:\n",
    "        assignment_2 += [lda[corpus[i]][2][0]]\n",
    "    except IndexError:\n",
    "        assignment_2 += [0]\n",
    "    try:\n",
    "        assignment_3 += [lda[corpus[i]][3][0]]\n",
    "    except IndexError:\n",
    "        assignment_3 += [0]\n",
    "    try:\n",
    "        assignment_4 += [lda[corpus[i]][4][0]]\n",
    "    except IndexError:\n",
    "        assignment_4 += [0]\n",
    "    try:\n",
    "        assignment_5 += [lda[corpus[i]][5][0]]\n",
    "    except IndexError:\n",
    "        assignment_5 += [0]"
   ]
  },
  {
   "cell_type": "code",
   "execution_count": 105,
   "metadata": {
    "collapsed": false
   },
   "outputs": [
    {
     "data": {
      "text/plain": [
       "[(1, 0.18573175799808767),\n",
       " (2, 0.10484585355094266),\n",
       " (3, 0.012031452358779582),\n",
       " (4, 0.68295675188900107),\n",
       " (5, 0.014385600783420558)]"
      ]
     },
     "execution_count": 105,
     "metadata": {},
     "output_type": "execute_result"
    }
   ],
   "source": [
    "lda[corpus[2]]"
   ]
  },
  {
   "cell_type": "code",
   "execution_count": 107,
   "metadata": {
    "collapsed": false
   },
   "outputs": [
    {
     "data": {
      "text/plain": [
       "(array([  8.,   0.,   6.,   0.,   0.,  47.,   0.,   3.,   0.,   6.]),\n",
       " array([ 0. ,  0.4,  0.8,  1.2,  1.6,  2. ,  2.4,  2.8,  3.2,  3.6,  4. ]),\n",
       " <a list of 10 Patch objects>)"
      ]
     },
     "execution_count": 107,
     "metadata": {},
     "output_type": "execute_result"
    },
    {
     "data": {
      "image/png": "[encoded data removed]",
      "text/plain": [
       "<matplotlib.figure.Figure at 0xa18c9b22b0>"
      ]
     },
     "metadata": {},
     "output_type": "display_data"
    }
   ],
   "source": [
    "plt.hist(assignment_1)"
   ]
  },
  {
   "cell_type": "code",
   "execution_count": 108,
   "metadata": {
    "collapsed": false
   },
   "outputs": [
    {
     "data": {
      "text/plain": [
       "(array([ 20.,   0.,   0.,   0.,   6.,   0.,   8.,   0.,  34.,   2.]),\n",
       " array([ 0. ,  0.5,  1. ,  1.5,  2. ,  2.5,  3. ,  3.5,  4. ,  4.5,  5. ]),\n",
       " <a list of 10 Patch objects>)"
      ]
     },
     "execution_count": 108,
     "metadata": {},
     "output_type": "execute_result"
    },
    {
     "data": {
      "image/png": "[encoded data removed]",
      "text/plain": [
       "<matplotlib.figure.Figure at 0xa18cdd1390>"
      ]
     },
     "metadata": {},
     "output_type": "display_data"
    }
   ],
   "source": [
    "plt.hist(assignment_2)"
   ]
  },
  {
   "cell_type": "code",
   "execution_count": 109,
   "metadata": {
    "collapsed": false
   },
   "outputs": [
    {
     "data": {
      "text/plain": [
       "(array([ 41.,   0.,   0.,   0.,   0.,   0.,   2.,   0.,   9.,  18.]),\n",
       " array([ 0. ,  0.5,  1. ,  1.5,  2. ,  2.5,  3. ,  3.5,  4. ,  4.5,  5. ]),\n",
       " <a list of 10 Patch objects>)"
      ]
     },
     "execution_count": 109,
     "metadata": {},
     "output_type": "execute_result"
    },
    {
     "data": {
      "image/png": "[encoded data removed]",
      "text/plain": [
       "<matplotlib.figure.Figure at 0xa18ce751d0>"
      ]
     },
     "metadata": {},
     "output_type": "display_data"
    }
   ],
   "source": [
    "plt.hist(assignment_3)"
   ]
  },
  {
   "cell_type": "code",
   "execution_count": null,
   "metadata": {
    "collapsed": true
   },
   "outputs": [],
   "source": []
  }
 ],
 "metadata": {
  "anaconda-cloud": {},
  "kernelspec": {
   "display_name": "Python [default]",
   "language": "python",
   "name": "python3"
  },
  "language_info": {
   "codemirror_mode": {
    "name": "ipython",
    "version": 3
   },
   "file_extension": ".py",
   "mimetype": "text/x-python",
   "name": "python",
   "nbconvert_exporter": "python",
   "pygments_lexer": "ipython3",
   "version": "3.5.2"
  }
 },
 "nbformat": 4,
 "nbformat_minor": 1
}
