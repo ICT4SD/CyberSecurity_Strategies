{
 "cells": [
  {
   "cell_type": "code",
   "execution_count": 69,
   "metadata": {
    "collapsed": false
   },
   "outputs": [],
   "source": [
    "% matplotlib inline\n",
    "import os\n",
    "import sys\n",
    "from gensim.models.ldamodel import LdaModel\n",
    "import gensim\n",
    "import pandas as pd\n",
    "import glob\n",
    "from nltk.corpus import stopwords\n",
    "import string\n",
    "from gensim import corpora\n",
    "import timeit\n",
    "from collections import defaultdict\n",
    "from nltk import PorterStemmer\n",
    "from gensim.utils import lemmatize # Only keep nums\n",
    "import re\n",
    "from bs4 import BeautifulSoup\n",
    "import urllib\n",
    "import time\n",
    "import threading\n",
    "from gensim.corpora import Dictionary"
   ]
  },
  {
   "cell_type": "code",
   "execution_count": 70,
   "metadata": {
    "collapsed": false
   },
   "outputs": [
    {
     "name": "stdout",
     "output_type": "stream",
     "text": [
      "sys.version_info(major=3, minor=5, micro=2, releaselevel='final', serial=0)\n"
     ]
    }
   ],
   "source": [
    "print(sys.version_info) ### Make sure you are using Python3"
   ]
  },
  {
   "cell_type": "code",
   "execution_count": 75,
   "metadata": {
    "collapsed": false
   },
   "outputs": [],
   "source": [
    "## change dir\n",
    "os.chdir(os.getcwd()+'\\data')\n",
    "\n",
    "dict_data = {}\n",
    "country_list = []\n",
    "content_list = []        \n",
    "for i in glob.glob('*.txt'):\n",
    "    with open(i,encoding='utf-8',errors = 'ignore') as f:\n",
    "        country_list += [i.split('.')[0]]\n",
    "        content = f.readlines()\n",
    "        content_list += [''.join(list(filter(None, list(map(lambda x:x.strip(), content)))))]\n",
    "dict_data['country'] = country_list\n",
    "dict_data['content'] = content_list\n",
    "df_all = pd.DataFrame(dict_data)"
   ]
  },
  {
   "cell_type": "code",
   "execution_count": 77,
   "metadata": {
    "collapsed": false
   },
   "outputs": [
    {
     "name": "stdout",
     "output_type": "stream",
     "text": [
      "C:\\Users\\Miya\\OneDrive\\un-project\n"
     ]
    }
   ],
   "source": [
    "cd ../"
   ]
  },
  {
   "cell_type": "code",
   "execution_count": 78,
   "metadata": {
    "collapsed": false
   },
   "outputs": [],
   "source": [
    "## change dir\n",
    "os.chdir(os.getcwd()+'\\profiles')\n",
    "\n",
    "dictionary_data = {}\n",
    "dict_country_list = []\n",
    "dict_content_list = []        \n",
    "for i in glob.glob('*.txt'):\n",
    "    with open(i,encoding='utf-8',errors = 'ignore') as f:\n",
    "        dict_country_list += [i.split('.')[0]]\n",
    "        dict_content = f.readlines()\n",
    "        dict_content_list += [''.join(list(filter(None, list(map(lambda x:x.strip(), dict_content)))))]\n",
    "dictionary_data['country'] = dict_country_list\n",
    "dictionary_data['content'] = dict_content_list\n",
    "dict_df_all = pd.DataFrame(dictionary_data)"
   ]
  },
  {
   "cell_type": "code",
   "execution_count": 79,
   "metadata": {
    "collapsed": false
   },
   "outputs": [
    {
     "data": {
      "text/html": [
       "<div>\n",
       "<table border=\"1\" class=\"dataframe\">\n",
       "  <thead>\n",
       "    <tr style=\"text-align: right;\">\n",
       "      <th></th>\n",
       "      <th>content</th>\n",
       "      <th>country</th>\n",
       "    </tr>\n",
       "  </thead>\n",
       "  <tbody>\n",
       "    <tr>\n",
       "      <th>0</th>\n",
       "      <td>IslamicRepublicofAfghanistanMinistryofCommunic...</td>\n",
       "      <td>Afghanistan</td>\n",
       "    </tr>\n",
       "    <tr>\n",
       "      <th>1</th>\n",
       "      <td>Shkresa-KokaColorR E P U B L I K A E S H Q I P...</td>\n",
       "      <td>Albania (nonEnglish)</td>\n",
       "    </tr>\n",
       "    <tr>\n",
       "      <th>2</th>\n",
       "      <td>AUSTRALIASCYBER SECURITY STRATEGYEnabling inno...</td>\n",
       "      <td>Australia</td>\n",
       "    </tr>\n",
       "    <tr>\n",
       "      <th>3</th>\n",
       "      <td>Logo Republik sterreichLogo Bundeskanzleramt s...</td>\n",
       "      <td>Austria</td>\n",
       "    </tr>\n",
       "    <tr>\n",
       "      <th>4</th>\n",
       "      <td>Az.rbaycan Prezidentinin R.smi internet s.hif....</td>\n",
       "      <td>Azerbaijan (nonEnglish)</td>\n",
       "    </tr>\n",
       "  </tbody>\n",
       "</table>\n",
       "</div>"
      ],
      "text/plain": [
       "                                             content                  country\n",
       "0  IslamicRepublicofAfghanistanMinistryofCommunic...              Afghanistan\n",
       "1  Shkresa-KokaColorR E P U B L I K A E S H Q I P...     Albania (nonEnglish)\n",
       "2  AUSTRALIASCYBER SECURITY STRATEGYEnabling inno...                Australia\n",
       "3  Logo Republik sterreichLogo Bundeskanzleramt s...                  Austria\n",
       "4  Az.rbaycan Prezidentinin R.smi internet s.hif....  Azerbaijan (nonEnglish)"
      ]
     },
     "execution_count": 79,
     "metadata": {},
     "output_type": "execute_result"
    }
   ],
   "source": [
    "df_all.head()"
   ]
  },
  {
   "cell_type": "code",
   "execution_count": 80,
   "metadata": {
    "collapsed": false
   },
   "outputs": [
    {
     "data": {
      "text/html": [
       "<div>\n",
       "<table border=\"1\" class=\"dataframe\">\n",
       "  <thead>\n",
       "    <tr style=\"text-align: right;\">\n",
       "      <th></th>\n",
       "      <th>content</th>\n",
       "      <th>country</th>\n",
       "    </tr>\n",
       "  </thead>\n",
       "  <tbody>\n",
       "    <tr>\n",
       "      <th>0</th>\n",
       "      <td>﻿----------------------- Page 1---------------...</td>\n",
       "      <td>Afghanistan</td>\n",
       "    </tr>\n",
       "    <tr>\n",
       "      <th>1</th>\n",
       "      <td>﻿----------------------- Page 1---------------...</td>\n",
       "      <td>Albania</td>\n",
       "    </tr>\n",
       "    <tr>\n",
       "      <th>2</th>\n",
       "      <td>﻿----------------------- Page 1---------------...</td>\n",
       "      <td>Algeria</td>\n",
       "    </tr>\n",
       "    <tr>\n",
       "      <th>3</th>\n",
       "      <td>﻿----------------------- Page 1---------------...</td>\n",
       "      <td>Andorra</td>\n",
       "    </tr>\n",
       "    <tr>\n",
       "      <th>4</th>\n",
       "      <td>﻿----------------------- Page 1---------------...</td>\n",
       "      <td>Angola</td>\n",
       "    </tr>\n",
       "  </tbody>\n",
       "</table>\n",
       "</div>"
      ],
      "text/plain": [
       "                                             content      country\n",
       "0  ﻿----------------------- Page 1---------------...  Afghanistan\n",
       "1  ﻿----------------------- Page 1---------------...      Albania\n",
       "2  ﻿----------------------- Page 1---------------...      Algeria\n",
       "3  ﻿----------------------- Page 1---------------...      Andorra\n",
       "4  ﻿----------------------- Page 1---------------...       Angola"
      ]
     },
     "execution_count": 80,
     "metadata": {},
     "output_type": "execute_result"
    }
   ],
   "source": [
    "dict_df_all.head()"
   ]
  },
  {
   "cell_type": "code",
   "execution_count": 95,
   "metadata": {
    "collapsed": false
   },
   "outputs": [],
   "source": [
    "def process_text(paragraph_list):\n",
    "    \"\"\"\n",
    "    stopwords\n",
    "    \n",
    "    punctuation\n",
    "    \n",
    "    digits\n",
    "    \n",
    "    \n",
    "    \"\"\"\n",
    "    typical_words = ['security','cyber','the','information','government'\n",
    "                     ,'cybersecurity','national','development','systems'\n",
    "                     ,'services','strategy','international','cyberspace']\n",
    "    stoplist = stopwords.words('english') + typical_words \n",
    "    \n",
    "    remove_digits = str.maketrans('', '', string.digits)\n",
    "    remove_punctuation = str.maketrans('', '', string.punctuation)\n",
    "    \n",
    "    \n",
    "    paragraph_cleaned =[i.translate(remove_digits) for i in paragraph_list]\n",
    "    \n",
    "    paragraph_cleaned = [i.translate(remove_punctuation) for i in paragraph_cleaned]\n",
    "    \n",
    "    paragraph_cleaned = [[word.lower() for word in line.split() if word.lower() not in stoplist] for line in paragraph_cleaned]\n",
    "\n",
    "    return paragraph_cleaned"
   ]
  },
  {
   "cell_type": "code",
   "execution_count": 96,
   "metadata": {
    "collapsed": true
   },
   "outputs": [],
   "source": [
    "paragraph_cleaned = process_text(content_list)"
   ]
  },
  {
   "cell_type": "code",
   "execution_count": 97,
   "metadata": {
    "collapsed": true
   },
   "outputs": [],
   "source": [
    "dict_paragraph_cleaned = process_text(dict_content_list)"
   ]
  },
  {
   "cell_type": "markdown",
   "metadata": {},
   "source": [
    "## bigram model"
   ]
  },
  {
   "cell_type": "code",
   "execution_count": 98,
   "metadata": {
    "collapsed": false
   },
   "outputs": [],
   "source": [
    "bigram = gensim.models.Phrases(dict_paragraph_cleaned,min_count=1, threshold=2)"
   ]
  },
  {
   "cell_type": "code",
   "execution_count": 99,
   "metadata": {
    "collapsed": false
   },
   "outputs": [
    {
     "name": "stderr",
     "output_type": "stream",
     "text": [
      "C:\\Users\\Miya\\Anaconda3\\lib\\site-packages\\gensim\\models\\phrases.py:248: UserWarning: For a faster implementation, use the gensim.models.phrases.Phraser class\n",
      "  warnings.warn(\"For a faster implementation, use the gensim.models.phrases.Phraser class\")\n"
     ]
    }
   ],
   "source": [
    "dictionary_text_list = list(bigram[dict_paragraph_cleaned])"
   ]
  },
  {
   "cell_type": "code",
   "execution_count": 100,
   "metadata": {
    "collapsed": false
   },
   "outputs": [
    {
     "name": "stderr",
     "output_type": "stream",
     "text": [
      "C:\\Users\\Miya\\Anaconda3\\lib\\site-packages\\gensim\\models\\phrases.py:248: UserWarning: For a faster implementation, use the gensim.models.phrases.Phraser class\n",
      "  warnings.warn(\"For a faster implementation, use the gensim.models.phrases.Phraser class\")\n"
     ]
    }
   ],
   "source": [
    "train_text_list = list(bigram[paragraph_cleaned])"
   ]
  },
  {
   "cell_type": "markdown",
   "metadata": {},
   "source": [
    "## dictionary built"
   ]
  },
  {
   "cell_type": "code",
   "execution_count": 101,
   "metadata": {
    "collapsed": false
   },
   "outputs": [],
   "source": [
    "dictionary = Dictionary(dictionary_text_list)\n",
    "corpus = [dictionary.doc2bow(text) for text in train_text_list]"
   ]
  },
  {
   "cell_type": "code",
   "execution_count": 102,
   "metadata": {
    "collapsed": false
   },
   "outputs": [
    {
     "data": {
      "text/plain": [
       "'C:\\\\Users\\\\Miya\\\\OneDrive\\\\un-project'"
      ]
     },
     "execution_count": 102,
     "metadata": {},
     "output_type": "execute_result"
    }
   ],
   "source": [
    "pwd"
   ]
  },
  {
   "cell_type": "code",
   "execution_count": 88,
   "metadata": {
    "collapsed": false
   },
   "outputs": [
    {
     "name": "stdout",
     "output_type": "stream",
     "text": [
      "C:\\Users\\Miya\\OneDrive\\un-project\n"
     ]
    }
   ],
   "source": [
    "cd ../"
   ]
  },
  {
   "cell_type": "markdown",
   "metadata": {},
   "source": [
    "### dump dictionary and corpus"
   ]
  },
  {
   "cell_type": "code",
   "execution_count": 103,
   "metadata": {
    "collapsed": true
   },
   "outputs": [],
   "source": [
    "import pickle\n",
    "\n",
    "with open('corpus.pickle', 'wb') as handle:\n",
    "    pickle.dump(corpus, handle, protocol=pickle.HIGHEST_PROTOCOL)\n",
    "    \n",
    "with open('dictionary.pickle', 'wb') as handle:\n",
    "    pickle.dump(dictionary, handle, protocol=pickle.HIGHEST_PROTOCOL)"
   ]
  },
  {
   "cell_type": "code",
   "execution_count": null,
   "metadata": {
    "collapsed": true
   },
   "outputs": [],
   "source": []
  },
  {
   "cell_type": "code",
   "execution_count": null,
   "metadata": {
    "collapsed": true
   },
   "outputs": [],
   "source": []
  },
  {
   "cell_type": "code",
   "execution_count": null,
   "metadata": {
    "collapsed": true
   },
   "outputs": [],
   "source": []
  },
  {
   "cell_type": "code",
   "execution_count": null,
   "metadata": {
    "collapsed": true
   },
   "outputs": [],
   "source": []
  },
  {
   "cell_type": "markdown",
   "metadata": {},
   "source": [
    "### load dictionary"
   ]
  },
  {
   "cell_type": "code",
   "execution_count": null,
   "metadata": {
    "collapsed": true
   },
   "outputs": [],
   "source": [
    "#with open('dictionary.pickle', 'rb') as handle:\n",
    "    #dictionary = pickle.load(handle)\n",
    "#with open('corpus.pickle', 'rb') as handle:\n",
    "    #corpus = pickle.load(handle)"
   ]
  },
  {
   "cell_type": "markdown",
   "metadata": {},
   "source": [
    "## lda modeling"
   ]
  },
  {
   "cell_type": "code",
   "execution_count": 123,
   "metadata": {
    "collapsed": false
   },
   "outputs": [],
   "source": [
    "lda = LdaModel(corpus, num_topics= 4,id2word = dictionary)"
   ]
  },
  {
   "cell_type": "code",
   "execution_count": 124,
   "metadata": {
    "collapsed": false
   },
   "outputs": [
    {
     "data": {
      "text/plain": [
       "[(0,\n",
       "  '0.029*\"de\" + 0.014*\"e\" + 0.012*\"ict\" + 0.008*\"o\" + 0.007*\"digital\" + 0.005*\"also\" + 0.005*\"ensure\" + 0.004*\"system\" + 0.004*\"threats\" + 0.004*\"use\" + 0.004*\"data\" + 0.004*\"–\" + 0.004*\"policy\" + 0.003*\"state\" + 0.003*\"access\" + 0.003*\"well\" + 0.003*\"protection\" + 0.003*\"public\" + 0.003*\"implementation\" + 0.003*\"business\" + 0.003*\"support\" + 0.003*\"page\" + 0.003*\"society\" + 0.003*\"activities\" + 0.003*\"sector\" + 0.003*\"level\" + 0.003*\"must\" + 0.003*\"measures\" + 0.003*\"cooperation\" + 0.003*\"critical\"'),\n",
       " (1,\n",
       "  '0.019*\"de\" + 0.018*\"e\" + 0.006*\"o\" + 0.005*\"also\" + 0.005*\"must\" + 0.005*\"threats\" + 0.005*\"policy\" + 0.004*\"–\" + 0.004*\"r\" + 0.004*\"public\" + 0.004*\"ict\" + 0.004*\"infrastructure\" + 0.004*\"n\" + 0.004*\"use\" + 0.004*\"critical\" + 0.004*\"attacks\" + 0.004*\"technology\" + 0.003*\"activities\" + 0.003*\"system\" + 0.003*\"access\" + 0.003*\"measures\" + 0.003*\"ensure\" + 0.003*\"data\" + 0.003*\"business\" + 0.003*\"strategic\" + 0.003*\"internet\" + 0.003*\"protection\" + 0.003*\"provide\" + 0.003*\"secure\" + 0.003*\"c\"'),\n",
       " (2,\n",
       "  '0.009*\"ict\" + 0.007*\"e\" + 0.006*\"also\" + 0.005*\"must\" + 0.004*\"support\" + 0.004*\"implementation\" + 0.004*\"system\" + 0.004*\"research\" + 0.004*\"measures\" + 0.004*\"policy\" + 0.004*\"new\" + 0.004*\"o\" + 0.004*\"access\" + 0.004*\"technology\" + 0.004*\"develop\" + 0.004*\"well\" + 0.004*\"use\" + 0.004*\"threats\" + 0.004*\"n\" + 0.004*\"networks\" + 0.004*\"data\" + 0.004*\"digital\" + 0.003*\"public\" + 0.003*\"ensure\" + 0.003*\"critical\" + 0.003*\"r\" + 0.003*\"internet\" + 0.003*\"c\" + 0.003*\"technologies\" + 0.003*\"including\"'),\n",
       " (3,\n",
       "  '0.026*\"de\" + 0.011*\"e\" + 0.008*\"o\" + 0.008*\"ict\" + 0.005*\"public\" + 0.005*\"internet\" + 0.005*\"new\" + 0.004*\"policy\" + 0.004*\"threats\" + 0.004*\"use\" + 0.004*\"also\" + 0.004*\"develop\" + 0.004*\"digital\" + 0.004*\"v\" + 0.004*\"system\" + 0.004*\"ensure\" + 0.003*\"technology\" + 0.003*\"attacks\" + 0.003*\"critical\" + 0.003*\"work\" + 0.003*\"research\" + 0.003*\"cooperation\" + 0.003*\"access\" + 0.003*\"protection\" + 0.003*\"data\" + 0.003*\"secure\" + 0.003*\"page\" + 0.003*\"networks\" + 0.003*\"management\" + 0.003*\"including\"')]"
      ]
     },
     "execution_count": 124,
     "metadata": {},
     "output_type": "execute_result"
    }
   ],
   "source": [
    "lda.show_topics(4,30)"
   ]
  },
  {
   "cell_type": "code",
   "execution_count": 113,
   "metadata": {
    "collapsed": false
   },
   "outputs": [
    {
     "data": {
      "text/plain": [
       "[(4, 1),\n",
       " (8, 1),\n",
       " (16, 1),\n",
       " (29, 3),\n",
       " (32, 2),\n",
       " (35, 2),\n",
       " (37, 1),\n",
       " (39, 1),\n",
       " (41, 3),\n",
       " (52, 3),\n",
       " (53, 1),\n",
       " (55, 3),\n",
       " (57, 2),\n",
       " (72, 4),\n",
       " (79, 1),\n",
       " (83, 1),\n",
       " (84, 1),\n",
       " (86, 3),\n",
       " (89, 1),\n",
       " (100, 1),\n",
       " (103, 1),\n",
       " (105, 11),\n",
       " (114, 5),\n",
       " (117, 10),\n",
       " (125, 2),\n",
       " (131, 2),\n",
       " (132, 5),\n",
       " (135, 3),\n",
       " (138, 3),\n",
       " (139, 1),\n",
       " (150, 1),\n",
       " (160, 1),\n",
       " (178, 3),\n",
       " (188, 3),\n",
       " (224, 3),\n",
       " (226, 2),\n",
       " (229, 1),\n",
       " (230, 2),\n",
       " (235, 3),\n",
       " (243, 1),\n",
       " (244, 1),\n",
       " (255, 1),\n",
       " (285, 3),\n",
       " (288, 3),\n",
       " (291, 1),\n",
       " (295, 8),\n",
       " (308, 3),\n",
       " (325, 4),\n",
       " (330, 2),\n",
       " (331, 2),\n",
       " (334, 2),\n",
       " (337, 1),\n",
       " (340, 6),\n",
       " (374, 1),\n",
       " (389, 2),\n",
       " (392, 2),\n",
       " (477, 2),\n",
       " (485, 2),\n",
       " (502, 2),\n",
       " (505, 1),\n",
       " (509, 1),\n",
       " (515, 8),\n",
       " (526, 1),\n",
       " (531, 1),\n",
       " (533, 1),\n",
       " (535, 3),\n",
       " (536, 3),\n",
       " (537, 3),\n",
       " (547, 9),\n",
       " (556, 1),\n",
       " (565, 4),\n",
       " (567, 1),\n",
       " (580, 1),\n",
       " (586, 1),\n",
       " (592, 2),\n",
       " (598, 1),\n",
       " (620, 1),\n",
       " (639, 1),\n",
       " (645, 1),\n",
       " (646, 1),\n",
       " (655, 4),\n",
       " (659, 2),\n",
       " (665, 1),\n",
       " (674, 5),\n",
       " (687, 1),\n",
       " (692, 1),\n",
       " (696, 1),\n",
       " (699, 1),\n",
       " (705, 4),\n",
       " (709, 1),\n",
       " (710, 2),\n",
       " (712, 1),\n",
       " (713, 3),\n",
       " (718, 1),\n",
       " (735, 1),\n",
       " (744, 4),\n",
       " (748, 1),\n",
       " (750, 1),\n",
       " (758, 2),\n",
       " (763, 2),\n",
       " (765, 1),\n",
       " (784, 3),\n",
       " (787, 3),\n",
       " (789, 1),\n",
       " (791, 1),\n",
       " (807, 4),\n",
       " (810, 1),\n",
       " (812, 2),\n",
       " (849, 1),\n",
       " (871, 1),\n",
       " (878, 1),\n",
       " (879, 2),\n",
       " (880, 4),\n",
       " (910, 1),\n",
       " (927, 1),\n",
       " (929, 11),\n",
       " (932, 2),\n",
       " (934, 1),\n",
       " (938, 1),\n",
       " (951, 2),\n",
       " (957, 4),\n",
       " (964, 3),\n",
       " (969, 1),\n",
       " (984, 1),\n",
       " (985, 3),\n",
       " (995, 1),\n",
       " (996, 1),\n",
       " (1001, 1),\n",
       " (1007, 1),\n",
       " (1010, 1),\n",
       " (1015, 5),\n",
       " (1016, 3),\n",
       " (1024, 1),\n",
       " (1029, 1),\n",
       " (1030, 1),\n",
       " (1036, 3),\n",
       " (1040, 1),\n",
       " (1043, 1),\n",
       " (1045, 1),\n",
       " (1060, 1),\n",
       " (1062, 2),\n",
       " (1068, 1),\n",
       " (1074, 4),\n",
       " (1082, 4),\n",
       " (1086, 8),\n",
       " (1090, 1),\n",
       " (1099, 5),\n",
       " (1100, 2),\n",
       " (1114, 1),\n",
       " (1117, 4),\n",
       " (1119, 1),\n",
       " (1131, 4),\n",
       " (1140, 3),\n",
       " (1166, 2),\n",
       " (1181, 1),\n",
       " (1187, 4),\n",
       " (1200, 1),\n",
       " (1203, 1),\n",
       " (1220, 1),\n",
       " (1232, 1),\n",
       " (1239, 5),\n",
       " (1243, 2),\n",
       " (1244, 1),\n",
       " (1250, 2),\n",
       " (1271, 1),\n",
       " (1287, 1),\n",
       " (1289, 3),\n",
       " (1298, 1),\n",
       " (1302, 1),\n",
       " (1315, 1),\n",
       " (1360, 2),\n",
       " (1405, 1),\n",
       " (1412, 4),\n",
       " (1417, 1),\n",
       " (1420, 2),\n",
       " (1426, 3),\n",
       " (1428, 8),\n",
       " (1451, 3),\n",
       " (1453, 3),\n",
       " (1456, 3),\n",
       " (1464, 1),\n",
       " (1485, 2),\n",
       " (1486, 5),\n",
       " (1516, 3),\n",
       " (1517, 1),\n",
       " (1523, 1),\n",
       " (1525, 2),\n",
       " (1529, 1),\n",
       " (1538, 1),\n",
       " (1555, 1),\n",
       " (1571, 1),\n",
       " (1577, 1),\n",
       " (1580, 1),\n",
       " (1582, 1),\n",
       " (1607, 3),\n",
       " (1620, 1),\n",
       " (1631, 1),\n",
       " (1638, 4),\n",
       " (1663, 2),\n",
       " (1738, 1),\n",
       " (1756, 3),\n",
       " (1757, 1),\n",
       " (1763, 2),\n",
       " (1778, 5),\n",
       " (1781, 7),\n",
       " (1791, 5),\n",
       " (1818, 3),\n",
       " (1827, 1),\n",
       " (1846, 2),\n",
       " (1874, 1),\n",
       " (1889, 1),\n",
       " (1900, 3),\n",
       " (1912, 1),\n",
       " (1945, 2),\n",
       " (1959, 1),\n",
       " (1983, 1),\n",
       " (1987, 1),\n",
       " (1996, 1),\n",
       " (2009, 2),\n",
       " (2041, 1),\n",
       " (2047, 1),\n",
       " (2061, 1),\n",
       " (2103, 1),\n",
       " (2108, 3),\n",
       " (2130, 1),\n",
       " (2131, 2),\n",
       " (2136, 1),\n",
       " (2145, 3),\n",
       " (2156, 1),\n",
       " (2163, 1),\n",
       " (2174, 1),\n",
       " (2175, 1),\n",
       " (2183, 1),\n",
       " (2208, 1),\n",
       " (2237, 3),\n",
       " (2258, 2),\n",
       " (2263, 1),\n",
       " (2276, 1),\n",
       " (2280, 2),\n",
       " (2287, 2),\n",
       " (2295, 1),\n",
       " (2296, 1),\n",
       " (2305, 1),\n",
       " (2323, 1),\n",
       " (2341, 3),\n",
       " (2347, 2),\n",
       " (2351, 2),\n",
       " (2355, 1),\n",
       " (2383, 1),\n",
       " (2417, 1),\n",
       " (2423, 1),\n",
       " (2426, 2),\n",
       " (2458, 1),\n",
       " (2477, 1),\n",
       " (2484, 1),\n",
       " (2486, 1),\n",
       " (2490, 1),\n",
       " (2491, 1),\n",
       " (2506, 1),\n",
       " (2532, 1),\n",
       " (2599, 3),\n",
       " (2600, 1),\n",
       " (2604, 2),\n",
       " (2627, 1),\n",
       " (2642, 3),\n",
       " (2644, 2),\n",
       " (2656, 1),\n",
       " (2666, 3),\n",
       " (2696, 2),\n",
       " (2748, 2),\n",
       " (2750, 1),\n",
       " (2761, 2),\n",
       " (2767, 1),\n",
       " (2776, 1),\n",
       " (2785, 2),\n",
       " (2810, 1),\n",
       " (2869, 1),\n",
       " (2876, 1),\n",
       " (2879, 2),\n",
       " (2890, 1),\n",
       " (2900, 1),\n",
       " (2906, 1),\n",
       " (2908, 3),\n",
       " (2928, 2),\n",
       " (2929, 1),\n",
       " (2932, 1),\n",
       " (2935, 2),\n",
       " (2937, 1),\n",
       " (2956, 1),\n",
       " (2964, 1),\n",
       " (2991, 1),\n",
       " (2995, 1),\n",
       " (2997, 2),\n",
       " (3010, 1),\n",
       " (3020, 1),\n",
       " (3168, 1),\n",
       " (3206, 2),\n",
       " (3214, 3),\n",
       " (3288, 5),\n",
       " (3309, 1),\n",
       " (3327, 1),\n",
       " (3339, 1),\n",
       " (3348, 2),\n",
       " (3353, 3),\n",
       " (3354, 1),\n",
       " (3404, 1),\n",
       " (3422, 2),\n",
       " (3471, 1),\n",
       " (3498, 1),\n",
       " (3502, 1),\n",
       " (3506, 3),\n",
       " (3527, 2),\n",
       " (3617, 2),\n",
       " (3619, 1),\n",
       " (3644, 1),\n",
       " (3748, 1),\n",
       " (3801, 1),\n",
       " (3806, 1),\n",
       " (3808, 3),\n",
       " (3809, 1),\n",
       " (3810, 2),\n",
       " (3827, 1),\n",
       " (3848, 3),\n",
       " (3854, 1),\n",
       " (3888, 3),\n",
       " (3937, 1),\n",
       " (3941, 1),\n",
       " (3964, 16),\n",
       " (3979, 2),\n",
       " (3982, 2),\n",
       " (4023, 1),\n",
       " (4026, 1),\n",
       " (4071, 1),\n",
       " (4072, 1),\n",
       " (4084, 1),\n",
       " (4201, 1),\n",
       " (4221, 1),\n",
       " (4240, 1),\n",
       " (4408, 1),\n",
       " (4411, 2),\n",
       " (4455, 1),\n",
       " (4535, 1),\n",
       " (4546, 2),\n",
       " (4566, 1),\n",
       " (4567, 1),\n",
       " (4620, 1),\n",
       " (4638, 1),\n",
       " (4659, 2),\n",
       " (4678, 3),\n",
       " (4838, 2),\n",
       " (4862, 2),\n",
       " (4897, 1),\n",
       " (4905, 1),\n",
       " (4911, 1),\n",
       " (4951, 1),\n",
       " (4957, 1),\n",
       " (4967, 1),\n",
       " (4971, 1),\n",
       " (4987, 1),\n",
       " (5016, 7),\n",
       " (5019, 8),\n",
       " (5020, 1),\n",
       " (5054, 2),\n",
       " (5063, 1),\n",
       " (5107, 4),\n",
       " (5167, 1),\n",
       " (5189, 1),\n",
       " (5190, 1),\n",
       " (5198, 1),\n",
       " (5199, 2),\n",
       " (5247, 1),\n",
       " (5285, 1),\n",
       " (5312, 1),\n",
       " (5323, 1),\n",
       " (5376, 1),\n",
       " (5400, 1),\n",
       " (5425, 1),\n",
       " (5448, 1),\n",
       " (5472, 1),\n",
       " (5474, 1),\n",
       " (5588, 2),\n",
       " (5606, 1),\n",
       " (5623, 1),\n",
       " (5762, 1),\n",
       " (5785, 2),\n",
       " (5792, 1),\n",
       " (5816, 1),\n",
       " (5822, 1),\n",
       " (5827, 3),\n",
       " (5833, 6),\n",
       " (5836, 1),\n",
       " (5883, 1),\n",
       " (5926, 1),\n",
       " (5944, 1),\n",
       " (5954, 1),\n",
       " (5982, 3),\n",
       " (6047, 1),\n",
       " (6057, 1),\n",
       " (6062, 1),\n",
       " (6086, 1),\n",
       " (6094, 1),\n",
       " (6169, 1),\n",
       " (6207, 2),\n",
       " (6222, 1),\n",
       " (6250, 1),\n",
       " (6360, 1),\n",
       " (6374, 2),\n",
       " (6388, 1),\n",
       " (6405, 4),\n",
       " (6407, 1),\n",
       " (6408, 1),\n",
       " (6423, 1),\n",
       " (6430, 1),\n",
       " (6565, 1),\n",
       " (6663, 1),\n",
       " (6720, 1),\n",
       " (6793, 1),\n",
       " (6856, 1),\n",
       " (6906, 1),\n",
       " (6915, 2),\n",
       " (6951, 2),\n",
       " (6984, 1),\n",
       " (7000, 1),\n",
       " (7084, 1),\n",
       " (7113, 1),\n",
       " (7263, 1),\n",
       " (7307, 1),\n",
       " (7325, 1),\n",
       " (7370, 1),\n",
       " (7390, 1),\n",
       " (7517, 1),\n",
       " (7621, 1),\n",
       " (7679, 3),\n",
       " (7795, 1),\n",
       " (7819, 1),\n",
       " (7837, 1),\n",
       " (7961, 2),\n",
       " (7970, 1),\n",
       " (8012, 1),\n",
       " (8016, 1),\n",
       " (8131, 2),\n",
       " (8251, 2),\n",
       " (8267, 2),\n",
       " (8312, 1),\n",
       " (8432, 1),\n",
       " (8526, 1),\n",
       " (8536, 4),\n",
       " (8554, 1),\n",
       " (8560, 1),\n",
       " (8571, 3),\n",
       " (8669, 1),\n",
       " (8672, 2),\n",
       " (8691, 1),\n",
       " (8783, 1),\n",
       " (8848, 1),\n",
       " (8852, 2),\n",
       " (8885, 1),\n",
       " (8926, 1),\n",
       " (9055, 1),\n",
       " (9057, 1),\n",
       " (9107, 1),\n",
       " (9113, 1),\n",
       " (9173, 1),\n",
       " (9335, 3),\n",
       " (9448, 2),\n",
       " (9462, 1),\n",
       " (9563, 1),\n",
       " (9591, 1),\n",
       " (9676, 1),\n",
       " (9690, 2),\n",
       " (9714, 1),\n",
       " (9756, 3),\n",
       " (9797, 2),\n",
       " (9801, 1),\n",
       " (9854, 1),\n",
       " (9855, 2),\n",
       " (9990, 1)]"
      ]
     },
     "execution_count": 113,
     "metadata": {},
     "output_type": "execute_result"
    }
   ],
   "source": [
    "corpus[0]"
   ]
  },
  {
   "cell_type": "code",
   "execution_count": null,
   "metadata": {
    "collapsed": true
   },
   "outputs": [],
   "source": []
  }
 ],
 "metadata": {
  "anaconda-cloud": {},
  "kernelspec": {
   "display_name": "Python [default]",
   "language": "python",
   "name": "python3"
  },
  "language_info": {
   "codemirror_mode": {
    "name": "ipython",
    "version": 3
   },
   "file_extension": ".py",
   "mimetype": "text/x-python",
   "name": "python",
   "nbconvert_exporter": "python",
   "pygments_lexer": "ipython3",
   "version": "3.5.2"
  }
 },
 "nbformat": 4,
 "nbformat_minor": 1
}
